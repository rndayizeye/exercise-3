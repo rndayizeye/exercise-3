{
 "cells": [
  {
   "cell_type": "markdown",
   "metadata": {
    "deletable": false,
    "editable": false,
    "slideshow": {
     "slide_type": ""
    },
    "tags": []
   },
   "source": [
    "## Problem 2: Create buffers around shopping centers (3 points)\n",
    "\n",
    "Let’s continue with our case study and calculate a 1.5 km buffer around the geocoded points. "
   ]
  },
  {
   "cell_type": "markdown",
   "metadata": {
    "deletable": false,
    "editable": false,
    "slideshow": {
     "slide_type": ""
    },
    "tags": []
   },
   "source": [
    "### a) Load the shopping centre data set (1 point)\n",
    "\n",
    "First, load the shopping centre *point* data set you created in *problem 1* into a `GeoDataFrame` called `shopping_centres`."
   ]
  },
  {
   "cell_type": "code",
   "execution_count": 2,
   "metadata": {},
   "outputs": [],
   "source": [
    "import pathlib\n",
    "NOTEBOOK_PATH = pathlib.Path().resolve()\n",
    "DATA_DIRECTORY = NOTEBOOK_PATH / \"data\""
   ]
  },
  {
   "cell_type": "code",
   "execution_count": 4,
   "metadata": {
    "editable": true,
    "slideshow": {
     "slide_type": ""
    },
    "tags": []
   },
   "outputs": [
    {
     "data": {
      "text/html": [
       "<div>\n",
       "<style scoped>\n",
       "    .dataframe tbody tr th:only-of-type {\n",
       "        vertical-align: middle;\n",
       "    }\n",
       "\n",
       "    .dataframe tbody tr th {\n",
       "        vertical-align: top;\n",
       "    }\n",
       "\n",
       "    .dataframe thead th {\n",
       "        text-align: right;\n",
       "    }\n",
       "</style>\n",
       "<table border=\"1\" class=\"dataframe\">\n",
       "  <thead>\n",
       "    <tr style=\"text-align: right;\">\n",
       "      <th></th>\n",
       "      <th>address</th>\n",
       "      <th>id</th>\n",
       "      <th>name</th>\n",
       "      <th>addr</th>\n",
       "      <th>geometry</th>\n",
       "    </tr>\n",
       "  </thead>\n",
       "  <tbody>\n",
       "    <tr>\n",
       "      <th>0</th>\n",
       "      <td>P2, 1-7, Itäkatu, Itäkeskus, Vartiokylä, Itäin...</td>\n",
       "      <td>1</td>\n",
       "      <td>itis</td>\n",
       "      <td>Itäkatu 1-7, 00930 Helsinki, Finland</td>\n",
       "      <td>POINT (25504565.399 6677597.362)</td>\n",
       "    </tr>\n",
       "    <tr>\n",
       "      <th>1</th>\n",
       "      <td>Mango, 14-20, Mannerheimintie, Keskusta, Kluuv...</td>\n",
       "      <td>2</td>\n",
       "      <td>Forum</td>\n",
       "      <td>Mannerheimintie 14–20, 00100 Helsinki, Finland</td>\n",
       "      <td>POINT (25496555.813 6672875.135)</td>\n",
       "    </tr>\n",
       "    <tr>\n",
       "      <th>2</th>\n",
       "      <td>Iso Omena, 11, Piispansilta, Matinkylän keskus...</td>\n",
       "      <td>3</td>\n",
       "      <td>Iso-omena</td>\n",
       "      <td>Piispansilta 11, 02230 Espoo, Finland</td>\n",
       "      <td>POINT (25485470.435 6672070.961)</td>\n",
       "    </tr>\n",
       "    <tr>\n",
       "      <th>3</th>\n",
       "      <td>3-9, Leppävaarankatu, Ruusutorppa, Etelä-Leppä...</td>\n",
       "      <td>4</td>\n",
       "      <td>Sello</td>\n",
       "      <td>Leppävaarankatu 3-9, 02600 Espoo, Finland</td>\n",
       "      <td>POINT (25489377.345 6678410.981)</td>\n",
       "    </tr>\n",
       "    <tr>\n",
       "      <th>4</th>\n",
       "      <td>Jumbo, 3, Vantaanportinkatu, Vantaanportti, Pa...</td>\n",
       "      <td>5</td>\n",
       "      <td>Jumbo</td>\n",
       "      <td>Vantaanportinkatu 3, 01510 Vantaa, Finland</td>\n",
       "      <td>POINT (25498101.694 6686561.2)</td>\n",
       "    </tr>\n",
       "  </tbody>\n",
       "</table>\n",
       "</div>"
      ],
      "text/plain": [
       "                                             address  id       name  \\\n",
       "0  P2, 1-7, Itäkatu, Itäkeskus, Vartiokylä, Itäin...   1       itis   \n",
       "1  Mango, 14-20, Mannerheimintie, Keskusta, Kluuv...   2      Forum   \n",
       "2  Iso Omena, 11, Piispansilta, Matinkylän keskus...   3  Iso-omena   \n",
       "3  3-9, Leppävaarankatu, Ruusutorppa, Etelä-Leppä...   4      Sello   \n",
       "4  Jumbo, 3, Vantaanportinkatu, Vantaanportti, Pa...   5      Jumbo   \n",
       "\n",
       "                                             addr  \\\n",
       "0            Itäkatu 1-7, 00930 Helsinki, Finland   \n",
       "1  Mannerheimintie 14–20, 00100 Helsinki, Finland   \n",
       "2           Piispansilta 11, 02230 Espoo, Finland   \n",
       "3       Leppävaarankatu 3-9, 02600 Espoo, Finland   \n",
       "4      Vantaanportinkatu 3, 01510 Vantaa, Finland   \n",
       "\n",
       "                           geometry  \n",
       "0  POINT (25504565.399 6677597.362)  \n",
       "1  POINT (25496555.813 6672875.135)  \n",
       "2  POINT (25485470.435 6672070.961)  \n",
       "3  POINT (25489377.345 6678410.981)  \n",
       "4    POINT (25498101.694 6686561.2)  "
      ]
     },
     "execution_count": 4,
     "metadata": {},
     "output_type": "execute_result"
    }
   ],
   "source": [
    "# ADD YOUR OWN CODE HERE\n",
    "import geopandas as gpd\n",
    "shopping_centres = gpd.read_file(DATA_DIRECTORY/\"shopping_centers.gpkg\")\n",
    "shopping_centres.head()"
   ]
  },
  {
   "cell_type": "markdown",
   "metadata": {
    "deletable": false,
    "slideshow": {
     "slide_type": ""
    },
    "tags": []
   },
   "source": [
    "\n",
    "---\n",
    "\n",
    "### b) Create a *buffer* around the points (1 points)\n",
    "\n",
    "Calculate a 1.5 km buffer for each geocoded point. Overwrite the `geometry` column with the new buffer geometry.\n",
    "\n",
    "Use the [`geopandas.GeoDataFrame.buffer()` method](http://geopandas.org/geometric_manipulations.html#GeoSeries.buffer), that uses shapely’s [`buffer()`](http://toblerity.org/shapely/manual.html#object.buffer) in the background. You only need to care about the `distance` parameter, don’t worry about the possible other arguments."
   ]
  },
  {
   "cell_type": "code",
   "execution_count": 5,
   "metadata": {},
   "outputs": [],
   "source": [
    "shopping_centres['geometry'] = shopping_centres.buffer(\n",
    "    distance = 1.5\n",
    ")"
   ]
  },
  {
   "cell_type": "code",
   "execution_count": null,
   "metadata": {
    "editable": false,
    "slideshow": {
     "slide_type": ""
    },
    "tags": []
   },
   "outputs": [],
   "source": [
    "# ADD YOUR OWN CODE HERE\n"
   ]
  },
  {
   "cell_type": "code",
   "execution_count": 6,
   "metadata": {
    "deletable": false,
    "editable": false
   },
   "outputs": [],
   "source": [
    "# NON-EDITABLE CODE CELL FOR TESTING YOUR SOLUTION\n",
    "assert shopping_centres.geometry.geom_type.unique() == [\"Polygon\"]"
   ]
  },
  {
   "cell_type": "markdown",
   "metadata": {
    "deletable": false,
    "editable": false
   },
   "source": [
    "\n",
    "---\n",
    "\n",
    "### d) Save buffer geometry layer (1 point)\n",
    "\n",
    "Save the data frame containing the buffer geometries into a new layer `buffers` inside the same *GeoPackage* `shopping_centres.gpkg`:"
   ]
  },
  {
   "cell_type": "code",
   "execution_count": 8,
   "metadata": {},
   "outputs": [],
   "source": [
    "# ADD YOUR OWN CODE HERE\n",
    "shopping_centres.to_file(DATA_DIRECTORY/\"shopping_centres.gpkg\")"
   ]
  }
 ],
 "metadata": {
  "anaconda-cloud": {},
  "kernelspec": {
   "display_name": "Python 3 (ipykernel)",
   "language": "python",
   "name": "python3"
  },
  "language_info": {
   "codemirror_mode": {
    "name": "ipython",
    "version": 3
   },
   "file_extension": ".py",
   "mimetype": "text/x-python",
   "name": "python",
   "nbconvert_exporter": "python",
   "pygments_lexer": "ipython3",
   "version": "3.13.3"
  }
 },
 "nbformat": 4,
 "nbformat_minor": 4
}
